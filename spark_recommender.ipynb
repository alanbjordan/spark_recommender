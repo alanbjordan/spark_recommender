{
 "cells": [
  {
   "cell_type": "code",
   "execution_count": 1,
   "id": "0d1a0f16-1297-4e8f-afb8-f311f1b24973",
   "metadata": {},
   "outputs": [],
   "source": [
    "from pyspark.sql import SparkSession\n",
    "\n",
    "spark = SparkSession.builder.appName(\"Spark ALS MovieLens\").master(\"local[*]\").config(\"spark.driver.memory\",\"2G\").getOrCreate()"
   ]
  },
  {
   "cell_type": "code",
   "execution_count": 2,
   "id": "1802e844-a79b-4bab-bb99-d932b5ce57dc",
   "metadata": {},
   "outputs": [
    {
     "name": "stdout",
     "output_type": "stream",
     "text": [
      "+----+-----+------+---------+\n",
      "|user|movie|rating|timestamp|\n",
      "+----+-----+------+---------+\n",
      "|   1|  122|   5.0|838985046|\n",
      "|   1|  185|   5.0|838983525|\n",
      "|   1|  231|   5.0|838983392|\n",
      "|   1|  292|   5.0|838983421|\n",
      "|   1|  316|   5.0|838983392|\n",
      "|   1|  329|   5.0|838983392|\n",
      "|   1|  355|   5.0|838984474|\n",
      "|   1|  356|   5.0|838983653|\n",
      "|   1|  362|   5.0|838984885|\n",
      "|   1|  364|   5.0|838983707|\n",
      "|   1|  370|   5.0|838984596|\n",
      "|   1|  377|   5.0|838983834|\n",
      "|   1|  420|   5.0|838983834|\n",
      "|   1|  466|   5.0|838984679|\n",
      "|   1|  480|   5.0|838983653|\n",
      "|   1|  520|   5.0|838984679|\n",
      "|   1|  539|   5.0|838984068|\n",
      "|   1|  586|   5.0|838984068|\n",
      "|   1|  588|   5.0|838983339|\n",
      "|   1|  589|   5.0|838983778|\n",
      "+----+-----+------+---------+\n",
      "only showing top 20 rows\n",
      "\n"
     ]
    },
    {
     "data": {
      "text/plain": [
       "10000054"
      ]
     },
     "execution_count": 2,
     "metadata": {},
     "output_type": "execute_result"
    }
   ],
   "source": [
    "rating_df = spark.read.options(delimiter=\"::\", inferSchema=True).csv(\"./ml-10M100K/ratings.dat\").toDF(\"user\", \"movie\", \"rating\", \"timestamp\")\n",
    "rating_df.show()\n",
    "rating_df.count()"
   ]
  },
  {
   "cell_type": "code",
   "execution_count": 3,
   "id": "6aca7fee-0b18-44ea-bf9c-c2fd2bfa8249",
   "metadata": {},
   "outputs": [
    {
     "name": "stdout",
     "output_type": "stream",
     "text": [
      "root\n",
      " |-- user: integer (nullable = true)\n",
      " |-- movie: integer (nullable = true)\n",
      " |-- rating: double (nullable = true)\n",
      " |-- timestamp: integer (nullable = true)\n",
      "\n"
     ]
    }
   ],
   "source": [
    "rating_df.printSchema()"
   ]
  },
  {
   "cell_type": "code",
   "execution_count": 4,
   "id": "f57a4960-85ba-4bcd-80ef-c325bcc82c4b",
   "metadata": {},
   "outputs": [
    {
     "name": "stdout",
     "output_type": "stream",
     "text": [
      "+-----+--------------------+--------------------+\n",
      "|movie|               title|              genres|\n",
      "+-----+--------------------+--------------------+\n",
      "|    1|    Toy Story (1995)|Adventure|Animati...|\n",
      "|    2|      Jumanji (1995)|Adventure|Childre...|\n",
      "|    3|Grumpier Old Men ...|      Comedy|Romance|\n",
      "|    4|Waiting to Exhale...|Comedy|Drama|Romance|\n",
      "|    5|Father of the Bri...|              Comedy|\n",
      "|    6|         Heat (1995)|Action|Crime|Thri...|\n",
      "|    7|      Sabrina (1995)|      Comedy|Romance|\n",
      "|    8| Tom and Huck (1995)|  Adventure|Children|\n",
      "|    9| Sudden Death (1995)|              Action|\n",
      "|   10|    GoldenEye (1995)|Action|Adventure|...|\n",
      "|   11|American Presiden...|Comedy|Drama|Romance|\n",
      "|   12|Dracula: Dead and...|       Comedy|Horror|\n",
      "|   13|        Balto (1995)|  Animation|Children|\n",
      "|   14|        Nixon (1995)|               Drama|\n",
      "|   15|Cutthroat Island ...|Action|Adventure|...|\n",
      "|   16|       Casino (1995)|         Crime|Drama|\n",
      "|   17|Sense and Sensibi...|Comedy|Drama|Romance|\n",
      "|   18|   Four Rooms (1995)|Comedy|Drama|Thri...|\n",
      "|   19|Ace Ventura: When...|              Comedy|\n",
      "|   20|  Money Train (1995)|Action|Comedy|Cri...|\n",
      "+-----+--------------------+--------------------+\n",
      "only showing top 20 rows\n",
      "\n"
     ]
    },
    {
     "data": {
      "text/plain": [
       "10681"
      ]
     },
     "execution_count": 4,
     "metadata": {},
     "output_type": "execute_result"
    }
   ],
   "source": [
    "movie_df = spark.read.options(delimiter=\"::\", inferSchema=True).csv(\"./ml-10M100K/movies.dat\").toDF(\"movie\",\"title\",\"genres\")\n",
    "movie_df.show()\n",
    "movie_df.count()"
   ]
  },
  {
   "cell_type": "code",
   "execution_count": 5,
   "id": "21fb12b1-5323-4fa8-b823-810047b6b03d",
   "metadata": {},
   "outputs": [
    {
     "data": {
      "text/plain": [
       "69878"
      ]
     },
     "execution_count": 5,
     "metadata": {},
     "output_type": "execute_result"
    }
   ],
   "source": [
    "rating_df.select('user').distinct().count()"
   ]
  },
  {
   "cell_type": "code",
   "execution_count": 6,
   "id": "6f6f8eb4-7db6-423d-afa9-14062ec117e2",
   "metadata": {},
   "outputs": [
    {
     "data": {
      "text/plain": [
       "10677"
      ]
     },
     "execution_count": 6,
     "metadata": {},
     "output_type": "execute_result"
    }
   ],
   "source": [
    "rating_df.select('movie').distinct().count()"
   ]
  },
  {
   "cell_type": "code",
   "execution_count": 7,
   "id": "88b63ce5-39ab-4d27-80f4-4444b1ed2905",
   "metadata": {},
   "outputs": [],
   "source": [
    "from pyspark.ml.evaluation import RegressionEvaluator\n",
    "from pyspark.ml.recommendation import ALS\n",
    "\n",
    "(training, test) = rating_df.randomSplit([0.8, 0.2])"
   ]
  },
  {
   "cell_type": "code",
   "execution_count": 8,
   "id": "77813f9d-186d-4c7c-8e5e-e383d89f56e0",
   "metadata": {},
   "outputs": [],
   "source": [
    "als = ALS(rank=50, maxIter=10, regParam=0.01, userCol=\"user\", itemCol=\"movie\", ratingCol=\"rating\", coldStartStrategy=\"drop\")\n",
    "als_model = als.fit(training)"
   ]
  },
  {
   "cell_type": "code",
   "execution_count": 9,
   "id": "781244c9-9a00-4461-aaf4-d89e5045c6ba",
   "metadata": {},
   "outputs": [],
   "source": [
    "predictions = als_model.transform(test)\n",
    "evaluate = RegressionEvaluator(metricName=\"rmse\", labelCol=\"rating\", predictionCol=\"prediction\")"
   ]
  },
  {
   "cell_type": "code",
   "execution_count": 10,
   "id": "4bf88fc6-34e0-4873-ba55-15ac8bda72b0",
   "metadata": {},
   "outputs": [
    {
     "name": "stdout",
     "output_type": "stream",
     "text": [
      "+----+-----+------+----------+----------+\n",
      "|user|movie|rating| timestamp|prediction|\n",
      "+----+-----+------+----------+----------+\n",
      "|  34| 1645|   3.0| 981824935| 3.5155551|\n",
      "|  78| 1238|   4.0|1089332965|  4.644592|\n",
      "| 193|  471|   2.0| 834884702| 3.0558429|\n",
      "| 211| 2366|   3.0| 945880564| 3.8609197|\n",
      "| 243| 1580|   4.0| 957754091| 3.3620322|\n",
      "| 251| 1342|   3.0| 857935706|   2.97529|\n",
      "| 368| 1088|   3.0|1079497543| 2.2806375|\n",
      "| 368| 1591|   2.0| 959913362| 2.8712552|\n",
      "| 375| 1580|   4.0| 945890762| 3.7205749|\n",
      "| 463| 3175|   5.0| 959928331|  3.490912|\n",
      "| 496| 2122|   5.0|1022347867| 4.6039705|\n",
      "| 513| 2366|   3.0| 945892327| 3.8949018|\n",
      "| 683| 1645|   2.0|1084463816|  3.086763|\n",
      "| 683| 5803|   4.0|1084467353| 3.9383574|\n",
      "| 898| 1580|   3.0| 948417027| 3.8344905|\n",
      "|1084| 1645|   3.0| 941672162|  4.181403|\n",
      "|1088| 2366|   5.0| 948472675| 3.2913835|\n",
      "|1143| 1580|   5.0| 868401181| 4.3149858|\n",
      "|1198| 1580|   3.0|1188661152|   2.99805|\n",
      "|1265| 2142|   1.0| 942069714| 2.5040548|\n",
      "+----+-----+------+----------+----------+\n",
      "only showing top 20 rows\n",
      "\n"
     ]
    }
   ],
   "source": [
    "predictions.show()"
   ]
  },
  {
   "cell_type": "code",
   "execution_count": 11,
   "id": "781677fd-68a6-45c1-9245-9aa5c8eac4e9",
   "metadata": {},
   "outputs": [
    {
     "name": "stdout",
     "output_type": "stream",
     "text": [
      "0.8789375752306133\n"
     ]
    }
   ],
   "source": [
    "rmse = evaluate.evaluate(predictions)\n",
    "print(rmse)"
   ]
  },
  {
   "cell_type": "code",
   "execution_count": 12,
   "id": "ac140538-f624-4987-8ffd-f7eaab39ce66",
   "metadata": {},
   "outputs": [
    {
     "name": "stdout",
     "output_type": "stream",
     "text": [
      "+----+--------------------+\n",
      "|user|     recommendations|\n",
      "+----+--------------------+\n",
      "|  34|[{4147, 5.187317}...|\n",
      "|  53|[{63131, 7.019035...|\n",
      "|  65|[{27648, 5.382845...|\n",
      "|  78|[{4984, 5.602451}...|\n",
      "|  85|[{6127, 7.8254423...|\n",
      "| 108|[{6843, 6.453687}...|\n",
      "| 137|[{1555, 5.0681005...|\n",
      "| 148|[{7992, 7.0827208...|\n",
      "| 155|[{43708, 5.447749...|\n",
      "| 193|[{25856, 5.735428...|\n",
      "| 211|[{4984, 6.5412374...|\n",
      "| 243|[{2627, 7.3930717...|\n",
      "| 251|[{25753, 6.182688...|\n",
      "| 255|[{5607, 6.1743064...|\n",
      "| 296|[{32444, 4.976081...|\n",
      "| 321|[{4201, 6.6201468...|\n",
      "| 322|[{1773, 7.9488263...|\n",
      "| 362|[{7002, 7.9144716...|\n",
      "| 368|[{5924, 5.3957434...|\n",
      "| 375|[{4952, 7.8887124...|\n",
      "+----+--------------------+\n",
      "only showing top 20 rows\n",
      "\n"
     ]
    }
   ],
   "source": [
    "user_recommendations = als_model.recommendForAllUsers(10)\n",
    "user_recommendations.show()"
   ]
  },
  {
   "cell_type": "code",
   "execution_count": 13,
   "id": "eaf2bc84-ff30-4157-9e4f-d545fa064dcf",
   "metadata": {},
   "outputs": [
    {
     "name": "stdout",
     "output_type": "stream",
     "text": [
      "+----+\n",
      "|user|\n",
      "+----+\n",
      "| 148|\n",
      "| 463|\n",
      "| 471|\n",
      "| 496|\n",
      "| 833|\n",
      "+----+\n",
      "\n"
     ]
    }
   ],
   "source": [
    "users = rating_df.select(\"user\").distinct().limit(5)\n",
    "users.show()"
   ]
  },
  {
   "cell_type": "code",
   "execution_count": 14,
   "id": "558efb9e-5ed2-41ca-85e7-04e05534fbd1",
   "metadata": {},
   "outputs": [
    {
     "name": "stdout",
     "output_type": "stream",
     "text": [
      "+----+------------------------------------------------------------------------------------------------------------------------------------------------------------------------------------------+\n",
      "|user|recommendations                                                                                                                                                                           |\n",
      "+----+------------------------------------------------------------------------------------------------------------------------------------------------------------------------------------------+\n",
      "|471 |[{55267, 7.451526}, {6522, 7.3697414}, {6784, 7.062359}, {4208, 6.839902}, {3319, 6.7705474}, {1685, 6.7576485}, {1420, 6.6014614}, {4438, 6.5824327}, {2158, 6.525417}, {6260, 6.492599}]|\n",
      "|463 |[{1555, 5.591772}, {25961, 5.033029}, {593, 5.000145}, {260, 4.9220104}, {32444, 4.8941374}, {2762, 4.893883}, {7767, 4.8551598}, {31116, 4.8466377}, {1198, 4.82191}, {110, 4.821346}]   |\n",
      "|833 |[{32444, 5.826062}, {63876, 5.8050504}, {6935, 5.703961}, {632, 5.625884}, {3653, 5.596893}, {924, 5.5316243}, {2930, 5.525136}, {54881, 5.501137}, {4450, 5.491835}, {6335, 5.4744987}]  |\n",
      "|496 |[{757, 7.2294965}, {1922, 7.129533}, {53127, 6.824863}, {7032, 6.7677484}, {45852, 6.75661}, {4419, 6.755365}, {48591, 6.644268}, {1119, 6.6067214}, {3917, 6.5355425}, {4872, 6.5294886}]|\n",
      "|148 |[{7992, 7.0827208}, {5068, 6.9421735}, {1549, 6.689242}, {4746, 6.672068}, {62344, 6.651133}, {4416, 6.5755296}, {3652, 6.490292}, {41425, 6.48677}, {4129, 6.45235}, {8941, 6.435852}]   |\n",
      "+----+------------------------------------------------------------------------------------------------------------------------------------------------------------------------------------------+\n",
      "\n"
     ]
    }
   ],
   "source": [
    "user_sub_recommendations = als_model.recommendForUserSubset(users, 10)\n",
    "user_sub_recommendations.show(truncate=False)"
   ]
  },
  {
   "cell_type": "code",
   "execution_count": 15,
   "id": "3f68915e-3663-409a-96ed-33d357cdcb92",
   "metadata": {},
   "outputs": [
    {
     "data": {
      "text/plain": [
       "[Row(user=471, recommendations=[Row(movie=55267, rating=7.451526165008545), Row(movie=6522, rating=7.369741439819336), Row(movie=6784, rating=7.062358856201172), Row(movie=4208, rating=6.839901924133301), Row(movie=3319, rating=6.770547389984131), Row(movie=1685, rating=6.757648468017578), Row(movie=1420, rating=6.601461410522461), Row(movie=4438, rating=6.582432746887207), Row(movie=2158, rating=6.525416851043701), Row(movie=6260, rating=6.492599010467529)])]"
      ]
     },
     "execution_count": 15,
     "metadata": {},
     "output_type": "execute_result"
    }
   ],
   "source": [
    "user_sub_recommendations.take(1)"
   ]
  },
  {
   "cell_type": "code",
   "execution_count": 16,
   "id": "f981944a-de6d-48a2-bac0-71e14976ae7a",
   "metadata": {},
   "outputs": [
    {
     "name": "stdout",
     "output_type": "stream",
     "text": [
      "+----+-----+------+---------+\n",
      "|user|movie|rating|timestamp|\n",
      "+----+-----+------+---------+\n",
      "| 471|    3|   5.0|834924367|\n",
      "| 471|    5|   5.0|834924367|\n",
      "| 471|   10|   3.0|834923999|\n",
      "| 471|   31|   5.0|834924267|\n",
      "| 471|   34|   4.0|834924068|\n",
      "| 471|   48|   5.0|834924245|\n",
      "| 471|  158|   5.0|834924215|\n",
      "| 471|  236|   5.0|834924153|\n",
      "| 471|  237|   5.0|834924302|\n",
      "| 471|  300|   3.0|834924042|\n",
      "| 471|  317|   3.0|834924068|\n",
      "| 471|  329|   4.0|834923961|\n",
      "| 471|  350|   5.0|834924233|\n",
      "| 471|  356|   3.0|834924153|\n",
      "| 471|  364|   4.0|834924124|\n",
      "| 471|  410|   3.0|834924042|\n",
      "| 471|  454|   3.0|834924098|\n",
      "| 471|  457|   5.0|834924042|\n",
      "| 471|  480|   3.0|834924187|\n",
      "| 471|  500|   2.0|834924280|\n",
      "+----+-----+------+---------+\n",
      "only showing top 20 rows\n",
      "\n"
     ]
    },
    {
     "data": {
      "text/plain": [
       "22"
      ]
     },
     "execution_count": 16,
     "metadata": {},
     "output_type": "execute_result"
    }
   ],
   "source": [
    "rating_df.where(\"user=471\").show()\n",
    "rating_df.where(\"user=471\").count()"
   ]
  },
  {
   "cell_type": "code",
   "execution_count": 17,
   "id": "84c81e1a-58b9-4654-b067-b8dd6fad5ee7",
   "metadata": {},
   "outputs": [
    {
     "name": "stdout",
     "output_type": "stream",
     "text": [
      "+----+-----+------+---------+\n",
      "|user|movie|rating|timestamp|\n",
      "+----+-----+------+---------+\n",
      "| 471|    3|   5.0|834924367|\n",
      "| 471|    5|   5.0|834924367|\n",
      "| 471|   10|   3.0|834923999|\n",
      "| 471|   31|   5.0|834924267|\n",
      "| 471|   34|   4.0|834924068|\n",
      "| 471|   48|   5.0|834924245|\n",
      "| 471|  158|   5.0|834924215|\n",
      "| 471|  236|   5.0|834924153|\n",
      "| 471|  237|   5.0|834924302|\n",
      "| 471|  300|   3.0|834924042|\n",
      "| 471|  317|   3.0|834924068|\n",
      "| 471|  329|   4.0|834923961|\n",
      "| 471|  350|   5.0|834924233|\n",
      "| 471|  356|   3.0|834924153|\n",
      "| 471|  364|   4.0|834924124|\n",
      "| 471|  410|   3.0|834924042|\n",
      "| 471|  454|   3.0|834924098|\n",
      "| 471|  457|   5.0|834924042|\n",
      "| 471|  480|   3.0|834924187|\n",
      "| 471|  500|   2.0|834924280|\n",
      "| 471|  589|   3.0|834924233|\n",
      "| 471|  595|   3.0|834923961|\n",
      "+----+-----+------+---------+\n",
      "\n"
     ]
    }
   ],
   "source": [
    "rating_df.where(\"user=471\").show(30)"
   ]
  },
  {
   "cell_type": "code",
   "execution_count": 18,
   "id": "3ac17503-fad5-4ba7-bb17-4c29caa20b7a",
   "metadata": {},
   "outputs": [
    {
     "name": "stdout",
     "output_type": "stream",
     "text": [
      "+----+------------------------------------------------------------------------------------------------------------------------------------------------------------------------------------------+\n",
      "|user|recommendations                                                                                                                                                                           |\n",
      "+----+------------------------------------------------------------------------------------------------------------------------------------------------------------------------------------------+\n",
      "|471 |[{55267, 7.451526}, {6522, 7.3697414}, {6784, 7.062359}, {4208, 6.839902}, {3319, 6.7705474}, {1685, 6.7576485}, {1420, 6.6014614}, {4438, 6.5824327}, {2158, 6.525417}, {6260, 6.492599}]|\n",
      "|463 |[{1555, 5.591772}, {25961, 5.033029}, {593, 5.000145}, {260, 4.9220104}, {32444, 4.8941374}, {2762, 4.893883}, {7767, 4.8551598}, {31116, 4.8466377}, {1198, 4.82191}, {110, 4.821346}]   |\n",
      "|833 |[{32444, 5.826062}, {63876, 5.8050504}, {6935, 5.703961}, {632, 5.625884}, {3653, 5.596893}, {924, 5.5316243}, {2930, 5.525136}, {54881, 5.501137}, {4450, 5.491835}, {6335, 5.4744987}]  |\n",
      "|496 |[{757, 7.2294965}, {1922, 7.129533}, {53127, 6.824863}, {7032, 6.7677484}, {45852, 6.75661}, {4419, 6.755365}, {48591, 6.644268}, {1119, 6.6067214}, {3917, 6.5355425}, {4872, 6.5294886}]|\n",
      "|148 |[{7992, 7.0827208}, {5068, 6.9421735}, {1549, 6.689242}, {4746, 6.672068}, {62344, 6.651133}, {4416, 6.5755296}, {3652, 6.490292}, {41425, 6.48677}, {4129, 6.45235}, {8941, 6.435852}]   |\n",
      "+----+------------------------------------------------------------------------------------------------------------------------------------------------------------------------------------------+\n",
      "\n"
     ]
    }
   ],
   "source": [
    "user_sub_recommendations.show(truncate=False)"
   ]
  },
  {
   "cell_type": "code",
   "execution_count": 19,
   "id": "5f0477ad-6a5b-49e0-af77-ed01a4119d80",
   "metadata": {},
   "outputs": [
    {
     "name": "stdout",
     "output_type": "stream",
     "text": [
      "+----+------------------+\n",
      "|user|     moving_rating|\n",
      "+----+------------------+\n",
      "| 471| {55267, 7.451526}|\n",
      "| 471| {6522, 7.3697414}|\n",
      "| 471|  {6784, 7.062359}|\n",
      "| 471|  {4208, 6.839902}|\n",
      "| 471| {3319, 6.7705474}|\n",
      "| 471| {1685, 6.7576485}|\n",
      "| 471| {1420, 6.6014614}|\n",
      "| 471| {4438, 6.5824327}|\n",
      "| 471|  {2158, 6.525417}|\n",
      "| 471|  {6260, 6.492599}|\n",
      "| 463|  {1555, 5.591772}|\n",
      "| 463| {25961, 5.033029}|\n",
      "| 463|   {593, 5.000145}|\n",
      "| 463|  {260, 4.9220104}|\n",
      "| 463|{32444, 4.8941374}|\n",
      "| 463|  {2762, 4.893883}|\n",
      "| 463| {7767, 4.8551598}|\n",
      "| 463|{31116, 4.8466377}|\n",
      "| 463|   {1198, 4.82191}|\n",
      "| 463|   {110, 4.821346}|\n",
      "+----+------------------+\n",
      "only showing top 20 rows\n",
      "\n"
     ]
    }
   ],
   "source": [
    "import pyspark.sql.functions as fn\n",
    "\n",
    "user_movies = user_sub_recommendations.select(\"user\", fn.explode(\"recommendations\").alias(\"moving_rating\"))\n",
    "user_movies.show()"
   ]
  },
  {
   "cell_type": "code",
   "execution_count": 20,
   "id": "14984c14-df64-4f4c-b860-17687f303b6c",
   "metadata": {},
   "outputs": [
    {
     "name": "stdout",
     "output_type": "stream",
     "text": [
      "+-----+--------------------+--------------------+\n",
      "|movie|               title|              genres|\n",
      "+-----+--------------------+--------------------+\n",
      "|    1|    Toy Story (1995)|Adventure|Animati...|\n",
      "|    2|      Jumanji (1995)|Adventure|Childre...|\n",
      "|    3|Grumpier Old Men ...|      Comedy|Romance|\n",
      "|    4|Waiting to Exhale...|Comedy|Drama|Romance|\n",
      "|    5|Father of the Bri...|              Comedy|\n",
      "|    6|         Heat (1995)|Action|Crime|Thri...|\n",
      "|    7|      Sabrina (1995)|      Comedy|Romance|\n",
      "|    8| Tom and Huck (1995)|  Adventure|Children|\n",
      "|    9| Sudden Death (1995)|              Action|\n",
      "|   10|    GoldenEye (1995)|Action|Adventure|...|\n",
      "|   11|American Presiden...|Comedy|Drama|Romance|\n",
      "|   12|Dracula: Dead and...|       Comedy|Horror|\n",
      "|   13|        Balto (1995)|  Animation|Children|\n",
      "|   14|        Nixon (1995)|               Drama|\n",
      "|   15|Cutthroat Island ...|Action|Adventure|...|\n",
      "|   16|       Casino (1995)|         Crime|Drama|\n",
      "|   17|Sense and Sensibi...|Comedy|Drama|Romance|\n",
      "|   18|   Four Rooms (1995)|Comedy|Drama|Thri...|\n",
      "|   19|Ace Ventura: When...|              Comedy|\n",
      "|   20|  Money Train (1995)|Action|Comedy|Cri...|\n",
      "+-----+--------------------+--------------------+\n",
      "only showing top 20 rows\n",
      "\n"
     ]
    }
   ],
   "source": [
    "movie_df.show()"
   ]
  },
  {
   "cell_type": "code",
   "execution_count": 21,
   "id": "1db344af-975a-4648-8c95-057c362fac4b",
   "metadata": {},
   "outputs": [
    {
     "name": "stdout",
     "output_type": "stream",
     "text": [
      "+----+------------------+-----+--------------------+--------------------+\n",
      "|user|     moving_rating|movie|               title|              genres|\n",
      "+----+------------------+-----+--------------------+--------------------+\n",
      "| 471| {55267, 7.451526}|55267|Dan in Real Life ...|Comedy|Drama|Romance|\n",
      "| 471| {6522, 7.3697414}| 6522|Man's Favorite Sp...|              Comedy|\n",
      "| 471|  {6784, 7.062359}| 6784|Song Remains the ...| Documentary|Musical|\n",
      "| 471|  {4208, 6.839902}| 4208|  Unmade Beds (1997)|         Documentary|\n",
      "| 471| {3319, 6.7705474}| 3319|  Judy Berlin (1999)|               Drama|\n",
      "| 471| {1685, 6.7576485}| 1685|I Love You, I Lov...|       Drama|Romance|\n",
      "| 471| {1420, 6.6014614}| 1420|Message to Love: ...|         Documentary|\n",
      "| 471| {4438, 6.5824327}| 4438|Chinese Connectio...|              Action|\n",
      "| 471|  {2158, 6.525417}| 2158|Henry: Portrait o...|        Crime|Horror|\n",
      "| 471|  {6260, 6.492599}| 6260|    Robe, The (1953)|               Drama|\n",
      "| 463|  {1555, 5.591772}| 1555|To Have, or Not (...|               Drama|\n",
      "| 463| {25961, 5.033029}|25961|Gunfighter, The (...|      Action|Western|\n",
      "| 463|   {593, 5.000145}|  593|Silence of the La...|Crime|Horror|Thri...|\n",
      "| 463|  {260, 4.9220104}|  260|Star Wars: Episod...|Action|Adventure|...|\n",
      "| 463|{32444, 4.8941374}|32444|       Carmen (1983)|Drama|Musical|Rom...|\n",
      "| 463|  {2762, 4.893883}| 2762|Sixth Sense, The ...|Drama|Mystery|Thr...|\n",
      "| 463| {7767, 4.8551598}| 7767|Best of Youth, Th...|               Drama|\n",
      "| 463|{31116, 4.8466377}|31116|Sergeant York (1941)|           Drama|War|\n",
      "| 463|   {1198, 4.82191}| 1198|Raiders of the Lo...|    Action|Adventure|\n",
      "| 463|   {110, 4.821346}|  110|   Braveheart (1995)|    Action|Drama|War|\n",
      "+----+------------------+-----+--------------------+--------------------+\n",
      "only showing top 20 rows\n",
      "\n"
     ]
    }
   ],
   "source": [
    "user_movies_title = user_movies.join(movie_df, user_movies.moving_rating.movie==movie_df.movie)\n",
    "user_movies_title.show()"
   ]
  },
  {
   "cell_type": "code",
   "execution_count": null,
   "id": "14908312-fb77-4b6d-8501-1fb9d341127f",
   "metadata": {},
   "outputs": [],
   "source": []
  }
 ],
 "metadata": {
  "kernelspec": {
   "display_name": "Python 3 (ipykernel)",
   "language": "python",
   "name": "python3"
  },
  "language_info": {
   "codemirror_mode": {
    "name": "ipython",
    "version": 3
   },
   "file_extension": ".py",
   "mimetype": "text/x-python",
   "name": "python",
   "nbconvert_exporter": "python",
   "pygments_lexer": "ipython3",
   "version": "3.10.8"
  }
 },
 "nbformat": 4,
 "nbformat_minor": 5
}
